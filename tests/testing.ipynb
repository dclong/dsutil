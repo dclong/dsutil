{
 "cells": [
  {
   "cell_type": "code",
   "execution_count": 2,
   "metadata": {},
   "outputs": [],
   "source": [
    "from util.datetime import seq"
   ]
  },
  {
   "cell_type": "code",
   "execution_count": null,
   "metadata": {},
   "outputs": [],
   "source": [
    "import datetime\n",
    "import pandas as pd"
   ]
  },
  {
   "cell_type": "code",
   "execution_count": null,
   "metadata": {},
   "outputs": [
    {
     "data": {
      "text/plain": [
       "[{'begin_dt': '2016-01-04', 'end_dt': '2016-01-10'},\n",
       " {'begin_dt': '2016-01-11', 'end_dt': '2016-01-17'},\n",
       " {'begin_dt': '2016-01-18', 'end_dt': '2016-01-24'}]"
      ]
     },
     "execution_count": 6,
     "metadata": {},
     "output_type": "execute_result"
    }
   ],
   "source": [
    "pars = [{'begin_dt': str(d), 'end_dt': str(d + datetime.timedelta(6))} for d in seq('2016-01-04', '2016-01-19', datetime.timedelta(7))]\n",
    "pars"
   ]
  },
  {
   "cell_type": "code",
   "execution_count": 10,
   "metadata": {},
   "outputs": [
    {
     "data": {
      "text/plain": [
       "dict_keys(['end_dt', 'begin_dt'])"
      ]
     },
     "execution_count": 10,
     "metadata": {},
     "output_type": "execute_result"
    }
   ],
   "source": [
    "pars[0].keys()"
   ]
  },
  {
   "cell_type": "code",
   "execution_count": 7,
   "metadata": {},
   "outputs": [
    {
     "data": {
      "text/html": [
       "<div>\n",
       "<style scoped>\n",
       "    .dataframe tbody tr th:only-of-type {\n",
       "        vertical-align: middle;\n",
       "    }\n",
       "\n",
       "    .dataframe tbody tr th {\n",
       "        vertical-align: top;\n",
       "    }\n",
       "\n",
       "    .dataframe thead th {\n",
       "        text-align: right;\n",
       "    }\n",
       "</style>\n",
       "<table border=\"1\" class=\"dataframe\">\n",
       "  <thead>\n",
       "    <tr style=\"text-align: right;\">\n",
       "      <th></th>\n",
       "      <th>end_dt</th>\n",
       "      <th>begin_dt</th>\n",
       "      <th>sent_cnt</th>\n",
       "      <th>unsbscrb_cnt</th>\n",
       "    </tr>\n",
       "  </thead>\n",
       "  <tbody>\n",
       "    <tr>\n",
       "      <th>0</th>\n",
       "      <td>2016-01-10</td>\n",
       "      <td>2016-01-04</td>\n",
       "      <td>177188617</td>\n",
       "      <td>100810</td>\n",
       "    </tr>\n",
       "    <tr>\n",
       "      <th>1</th>\n",
       "      <td>2016-01-17</td>\n",
       "      <td>2016-01-11</td>\n",
       "      <td>193007940</td>\n",
       "      <td>115669</td>\n",
       "    </tr>\n",
       "    <tr>\n",
       "      <th>2</th>\n",
       "      <td>2016-01-24</td>\n",
       "      <td>2016-01-18</td>\n",
       "      <td>197478353</td>\n",
       "      <td>106638</td>\n",
       "    </tr>\n",
       "  </tbody>\n",
       "</table>\n",
       "</div>"
      ],
      "text/plain": [
       "      end_dt   begin_dt   sent_cnt  unsbscrb_cnt\n",
       "0 2016-01-10 2016-01-04  177188617        100810\n",
       "1 2016-01-17 2016-01-11  193007940        115669\n",
       "2 2016-01-24 2016-01-18  197478353        106638"
      ]
     },
     "execution_count": 7,
     "metadata": {},
     "output_type": "execute_result"
    }
   ],
   "source": [
    "q = '''\n",
    "select\n",
    "    sum(es.email_sent_cnt) as sent_cnt,\n",
    "    sum(es.unsbscrb_cnt) as unsbscrb_cnt\n",
    "from \n",
    "    prs_restricted_v.mh_crm_engmnt_sd es\n",
    "inner join \n",
    "    access_views.dw_cmc_instnc ci\n",
    "on \n",
    "    es.email_type_id = ci.instnc_id\n",
    "where \n",
    "    ci.cmpgn_run_dt >= ${begin_dt}\n",
    "and\n",
    "    ci.cmpgn_run_dt <= ${end_dt}\n",
    "and\n",
    "    es.channel_id = 8\n",
    "and \n",
    "    es.site_cntry_id = 1\n",
    "'''\n",
    "usb = h.select_many(q, pars)\n",
    "usb.head()"
   ]
  },
  {
   "cell_type": "code",
   "execution_count": 8,
   "metadata": {},
   "outputs": [
    {
     "data": {
      "text/plain": [
       "end_dt          datetime64[ns]\n",
       "begin_dt        datetime64[ns]\n",
       "sent_cnt                 int64\n",
       "unsbscrb_cnt             int64\n",
       "dtype: object"
      ]
     },
     "execution_count": 8,
     "metadata": {},
     "output_type": "execute_result"
    }
   ],
   "source": [
    "usb.dtypes"
   ]
  },
  {
   "cell_type": "code",
   "execution_count": null,
   "metadata": {},
   "outputs": [],
   "source": []
  }
 ],
 "metadata": {
  "kernelspec": {
   "display_name": "Python 3",
   "language": "python",
   "name": "python3"
  },
  "language_info": {
   "codemirror_mode": {
    "name": "ipython",
    "version": 3
   },
   "file_extension": ".py",
   "mimetype": "text/x-python",
   "name": "python",
   "nbconvert_exporter": "python",
   "pygments_lexer": "ipython3",
   "version": "3.5.2"
  }
 },
 "nbformat": 4,
 "nbformat_minor": 2
}